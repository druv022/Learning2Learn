{
  "nbformat": 4,
  "nbformat_minor": 0,
  "metadata": {
    "colab": {
      "name": "Reptile Meta-Learning.ipynb",
      "provenance": [],
      "collapsed_sections": [],
      "authorship_tag": "ABX9TyNlwTyKpobBWpNL9N0D3pSf",
      "include_colab_link": true
    },
    "kernelspec": {
      "name": "python3",
      "display_name": "Python 3"
    }
  },
  "cells": [
    {
      "cell_type": "markdown",
      "metadata": {
        "id": "view-in-github",
        "colab_type": "text"
      },
      "source": [
        "<a href=\"https://colab.research.google.com/github/druv022/Learning2Learn/blob/master/Reptile_Meta_Learning.ipynb\" target=\"_parent\"><img src=\"https://colab.research.google.com/assets/colab-badge.svg\" alt=\"Open In Colab\"/></a>"
      ]
    },
    {
      "cell_type": "markdown",
      "metadata": {
        "id": "9ZhP8RPiMKoo"
      },
      "source": [
        "#**Meta Learning**"
      ]
    },
    {
      "cell_type": "markdown",
      "metadata": {
        "id": "U-xFHoGdjSSg"
      },
      "source": [
        "##Repltile Meta-Learning Algorithm\r\n",
        "\r\n",
        "----\r\n",
        "\r\n",
        "**Algorithm** Reptile, Batched version\r\n",
        "\r\n",
        "----\r\n",
        "Initialize $\\phi$\r\n",
        "\r\n",
        "**for** iteration = 1,2,... **do**\r\n",
        "\r\n",
        "$\\;\\;\\;\\;$ Sample tasks $\\tau_1. \\tau_2, \\dots , \\tau_n$\r\n",
        "\r\n",
        "$\\;\\;\\;\\;$ **for** $i = 1,2, \\dots, n$ **do**\r\n",
        "\r\n",
        "$\\;\\;\\;\\;\\;\\;\\;\\;$ Compute $W_i = SGD(L_\\tau, \\phi, k)$\r\n",
        "\r\n",
        "$\\;\\;\\;\\;$ **end for**\r\n",
        "\r\n",
        "$\\;\\;\\;\\;$ Update $\\phi \\leftarrow \\phi + \\epsilon \\frac{1}{k}\\sum_{i=1}^{n}(W_i - \\phi)$\r\n",
        "\r\n",
        "**end for**\r\n",
        "\r\n",
        "-----\r\n"
      ]
    },
    {
      "cell_type": "code",
      "metadata": {
        "colab": {
          "base_uri": "https://localhost:8080/",
          "height": 34
        },
        "id": "1lSZ33EPL1A7",
        "outputId": "df2c8b6a-d370-4101-d8be-82d63db0df47"
      },
      "source": [
        "# Reptile learning code inspired from this repo: https://github.com/gabrielhuang/reptile-pytorch\r\n",
        "\r\n",
        "import numpy as np\r\n",
        "import matplotlib.pyplot as plt\r\n",
        "import torch\r\n",
        "from torch import nn\r\n",
        "from torch.optim import SGD, Adam\r\n",
        "\r\n",
        "%autosave 30"
      ],
      "execution_count": null,
      "outputs": [
        {
          "output_type": "display_data",
          "data": {
            "application/javascript": [
              "IPython.notebook.set_autosave_interval(30000)"
            ]
          },
          "metadata": {
            "tags": []
          }
        },
        {
          "output_type": "stream",
          "text": [
            "Autosaving every 30 seconds\n"
          ],
          "name": "stdout"
        }
      ]
    },
    {
      "cell_type": "markdown",
      "metadata": {
        "id": "47_1CkjuOfvW"
      },
      "source": [
        "* Task $\\tau = (a,b)$ is defined by amplitude *a* and phase $\\phi$ of a sine wave function $f_\\tau(x) = a sin(x + b)$. The task distribution by sampling $a \\sim U([0.1, 5.0])$ and $b \\sim U[(0,2\\pi)]$\r\n",
        "\r\n",
        "* Sample $p$ points $x_1, x_2, \\dots , x_p \\sim U([-5, 5])$\r\n",
        "\r\n",
        "* Learner sees $(x_1, y_1), (x_2, y_2), \\dots, (x_p, y_p)$ and predicts the whole function $f(x)$\r\n",
        "\r\n",
        "* Loss is $l_2$ error on the whole interval, [-5, 5] $L_\\tau(f) = \\int_{-5}^{5} dx ||f(x) - f_\\tau(x)||^2$\r\n",
        "\r\n",
        "Calculate this integral using 50 equally-spaced points $x$."
      ]
    },
    {
      "cell_type": "code",
      "metadata": {
        "id": "dWsY8y4ZnsYa"
      },
      "source": [
        "# write a function to plot the graph\r\n",
        "\r\n",
        "def plot_graph(x, y, label='Sin wave'):\r\n",
        "    plt.plot(x, y, label=label)\r\n",
        "    plt.xlabel('x')\r\n",
        "    plt.ylabel('sin(x)')\r\n",
        "    plt.grid(True, which='both')"
      ],
      "execution_count": null,
      "outputs": []
    },
    {
      "cell_type": "code",
      "metadata": {
        "id": "ZmG2Tgp7UOrv"
      },
      "source": [
        "# write a class that generates a sin wave with given a given amplitude and a phase b\r\n",
        "\r\n",
        "class SinWave(object):\r\n",
        "    \r\n",
        "    def __init__(self):\r\n",
        "        self.a = np.random.uniform(0.1, 5.0, 1)\r\n",
        "        self.b = np.random.uniform(0, 2*np.pi)\r\n",
        "\r\n",
        "        self.train_x = None\r\n",
        "        self.train_y = None\r\n",
        "\r\n",
        "        self.test_x = None\r\n",
        "        self.test_y = None\r\n",
        "\r\n",
        "    def train_values(self, x=None, n_values = 50):\r\n",
        "        if x is not None:\r\n",
        "            self.train_x = x\r\n",
        "        elif self.train_x is None:\r\n",
        "            self.train_x = np.random.uniform(-5, 5, n_values)\r\n",
        "            \r\n",
        "        self.train_y = self.a*np.sin(self.train_x + self.b)\r\n",
        "        return self.train_x, self.train_y\r\n",
        "\r\n",
        "    def test_values(self, x=None, n_values = 50):\r\n",
        "        if x is not None:\r\n",
        "            self.test_x = x\r\n",
        "        elif self.test_x is None:\r\n",
        "            self.test_x = np.random.uniform(-5, 5, n_values)\r\n",
        "            \r\n",
        "        self.test_y = self.a*np.sin(self.test_x + self.b)\r\n",
        "        return self.test_x, self.test_y\r\n",
        "\r\n",
        "    def plot(self, mode='test'):\r\n",
        "        if mode == 'train':\r\n",
        "            if self.train_x is None:\r\n",
        "                self.train_values()\r\n",
        "            x, y = self.train_x, self.train_y\r\n",
        "        elif mode == 'test':\r\n",
        "            if self.test_x is None:\r\n",
        "                self.test_values()\r\n",
        "            x, y = self.test_x, self.test_y\r\n",
        "\r\n",
        "        plot_graph(x, y)"
      ],
      "execution_count": null,
      "outputs": []
    },
    {
      "cell_type": "code",
      "metadata": {
        "colab": {
          "base_uri": "https://localhost:8080/"
        },
        "id": "8_WKPS9kWe2U",
        "outputId": "cb32470b-ef26-47b0-9039-233615633625"
      },
      "source": [
        "# set device\r\n",
        "device = torch.device('cuda:0' if torch.cuda.is_available() else 'cpu')\r\n",
        "device"
      ],
      "execution_count": null,
      "outputs": [
        {
          "output_type": "execute_result",
          "data": {
            "text/plain": [
              "device(type='cpu')"
            ]
          },
          "metadata": {
            "tags": []
          },
          "execution_count": 4
        }
      ]
    },
    {
      "cell_type": "code",
      "metadata": {
        "id": "sQbTr21Pyd3k"
      },
      "source": [
        "# write the sine training model\r\n",
        "class SineModel(nn.Module):\r\n",
        "\r\n",
        "    def __init__(self):\r\n",
        "        super(SineModel, self).__init__()\r\n",
        "        self.model = nn.Sequential(\r\n",
        "                    nn.Linear(1, 40),\r\n",
        "                    nn.ReLU6(),\r\n",
        "                    nn.Linear(40, 40),\r\n",
        "                    nn.ReLU6(),\r\n",
        "                    nn.Linear(40, 1)\r\n",
        "                    )\r\n",
        "        \r\n",
        "    def forward(self, x):\r\n",
        "        return self.model(x)\r\n"
      ],
      "execution_count": null,
      "outputs": []
    },
    {
      "cell_type": "code",
      "metadata": {
        "id": "nbmrLS4J9jWQ"
      },
      "source": [
        "# write a function to train the inner loop model\r\n",
        "# arguments: model, k_steps, lr\r\n",
        "def train_inner(model, wave, k_steps, lr):\r\n",
        "    x, y = wave.train_values()\r\n",
        "    x, y = torch.tensor(x, dtype= torch.float32, device=device).unsqueeze(-1), torch.tensor(y, dtype= torch.float32, device=device).unsqueeze(-1)\r\n",
        "\r\n",
        "    new_model = SineModel().to(device)\r\n",
        "    new_model.load_state_dict(model.state_dict())\r\n",
        "    optimizer = SGD(new_model.parameters(), lr=lr)\r\n",
        "\r\n",
        "    for iter in np.arange(k_steps):\r\n",
        "        optimizer.zero_grad()\r\n",
        "\r\n",
        "        y_pred = new_model(x)\r\n",
        "        loss = ((y - y_pred)**2).mean()\r\n",
        "\r\n",
        "        loss.backward()\r\n",
        "        optimizer.step()\r\n",
        "\r\n",
        "    return new_model"
      ],
      "execution_count": null,
      "outputs": []
    },
    {
      "cell_type": "code",
      "metadata": {
        "id": "PMavHLbUZIEY"
      },
      "source": [
        "# write a function to eval the model\r\n",
        "def eval_model(model, wave):\r\n",
        "    x, y = wave.test_values()\r\n",
        "    x, y = torch.tensor(x, dtype= torch.float32, device=device).unsqueeze(-1), torch.tensor(y, dtype= torch.float32, device=device).unsqueeze(-1)\r\n",
        "\r\n",
        "    y_pred = model(x)\r\n",
        "\r\n",
        "    loss = ((y - y_pred)**2).mean()\r\n",
        "    return loss.item()\r\n"
      ],
      "execution_count": null,
      "outputs": []
    },
    {
      "cell_type": "code",
      "metadata": {
        "id": "QKmXh3P-YIYm"
      },
      "source": [
        "def reptile(model, iterations, lr_outter=0.001, lr_inner=0.01, n_inner = 3):\r\n",
        "    optimizer = Adam(model.parameters(), lr=lr_outter)\r\n",
        "\r\n",
        "    train_loss = []\r\n",
        "    test_loss = []\r\n",
        "\r\n",
        "    new_model = None\r\n",
        "    for iter in np.arange(iterations):\r\n",
        "        sin_wave = SinWave()\r\n",
        "\r\n",
        "        optimizer.zero_grad()\r\n",
        "\r\n",
        "        new_model = train_inner(model, sin_wave, k_steps=n_inner, lr=lr_inner)\r\n",
        "        train_meta_loss = eval_model(new_model, sin_wave)\r\n",
        "\r\n",
        "        # Inject updates into each .grad\r\n",
        "        for p, new_p in zip(model.parameters(), new_model.parameters()):\r\n",
        "            if p.grad is None:\r\n",
        "                p.grad = torch.zeros(p.size())\r\n",
        "            p.grad.data.add_(p.data - new_p.data)\r\n",
        "\r\n",
        "        optimizer.step()\r\n",
        "\r\n",
        "        # validation\r\n",
        "        new_wave = SinWave()\r\n",
        "        new_model_s = train_inner(new_model, new_wave, k_steps=n_inner, lr=lr_inner)\r\n",
        "        test_meta_loss = eval_model(new_model_s, new_wave)\r\n",
        "\r\n",
        "        train_loss.append(train_meta_loss)\r\n",
        "        test_loss.append(test_meta_loss)\r\n",
        "\r\n",
        "\r\n",
        "        if iter%1000 == 0:\r\n",
        "            print(f' Iteration {str(iter)}; Avg_train_loss: {np.mean(train_loss)}; Avg_test_loss: {np.mean(test_loss)}')\r\n",
        "\r\n",
        "    return new_model"
      ],
      "execution_count": null,
      "outputs": []
    },
    {
      "cell_type": "code",
      "metadata": {
        "colab": {
          "base_uri": "https://localhost:8080/"
        },
        "id": "g893p-xGmuUc",
        "outputId": "88f9b1fb-177e-4af0-9e0d-8d3d4a59a8f7"
      },
      "source": [
        "model = SineModel().to(device)\r\n",
        "reptile(model, iterations=100000)\r\n"
      ],
      "execution_count": null,
      "outputs": [
        {
          "output_type": "stream",
          "text": [
            " Iteration 0; Avg_train_loss: 2.1768696308135986; Avg_test_loss: 4.844778537750244\n",
            " Iteration 1000; Avg_train_loss: 3.357349047668978; Avg_test_loss: 3.2923688537773343\n",
            " Iteration 2000; Avg_train_loss: 3.1177394047180758; Avg_test_loss: 3.1525918295814552\n",
            " Iteration 3000; Avg_train_loss: 2.785820156788768; Avg_test_loss: 2.8619516254119515\n",
            " Iteration 4000; Avg_train_loss: 2.555313792499027; Avg_test_loss: 2.656557712826731\n",
            " Iteration 5000; Avg_train_loss: 2.413071830032119; Avg_test_loss: 2.49322099468811\n",
            " Iteration 6000; Avg_train_loss: 2.295262386405633; Avg_test_loss: 2.3860753436564\n",
            " Iteration 7000; Avg_train_loss: 2.2152351464233413; Avg_test_loss: 2.3049243526082153\n",
            " Iteration 8000; Avg_train_loss: 2.154961785053036; Avg_test_loss: 2.2391740244397655\n",
            " Iteration 9000; Avg_train_loss: 2.0979266195782564; Avg_test_loss: 2.1875282019073228\n",
            " Iteration 10000; Avg_train_loss: 2.051882062081687; Avg_test_loss: 2.135136678124591\n",
            " Iteration 11000; Avg_train_loss: 2.008022563625034; Avg_test_loss: 2.094679174530019\n",
            " Iteration 12000; Avg_train_loss: 1.9699139682787803; Avg_test_loss: 2.050058995749925\n",
            " Iteration 13000; Avg_train_loss: 1.9285851556508555; Avg_test_loss: 2.0120282327279484\n",
            " Iteration 14000; Avg_train_loss: 1.8892780481783686; Avg_test_loss: 1.9772867894335413\n",
            " Iteration 15000; Avg_train_loss: 1.852902979244443; Avg_test_loss: 1.9404756267390286\n",
            " Iteration 16000; Avg_train_loss: 1.8198527847199053; Avg_test_loss: 1.906630424649754\n",
            " Iteration 17000; Avg_train_loss: 1.7899658532855571; Avg_test_loss: 1.8766913931140907\n",
            " Iteration 18000; Avg_train_loss: 1.7550178371931622; Avg_test_loss: 1.8447194530318496\n",
            " Iteration 19000; Avg_train_loss: 1.7264018217071886; Avg_test_loss: 1.8152110304022646\n",
            " Iteration 20000; Avg_train_loss: 1.697133314080348; Avg_test_loss: 1.7878501823921802\n",
            " Iteration 21000; Avg_train_loss: 1.6704330996997596; Avg_test_loss: 1.7623159198315237\n",
            " Iteration 22000; Avg_train_loss: 1.6418048109886494; Avg_test_loss: 1.7340648330492963\n",
            " Iteration 23000; Avg_train_loss: 1.6184007218666503; Avg_test_loss: 1.710222881788523\n",
            " Iteration 24000; Avg_train_loss: 1.594845795947823; Avg_test_loss: 1.6849627442132176\n",
            " Iteration 25000; Avg_train_loss: 1.5677466189985931; Avg_test_loss: 1.6604318154686137\n",
            " Iteration 26000; Avg_train_loss: 1.539519283429201; Avg_test_loss: 1.634511310533845\n",
            " Iteration 27000; Avg_train_loss: 1.5133101045810218; Avg_test_loss: 1.6093625696672231\n",
            " Iteration 28000; Avg_train_loss: 1.4889018673364904; Avg_test_loss: 1.5854174534569414\n",
            " Iteration 29000; Avg_train_loss: 1.4659308417350205; Avg_test_loss: 1.5646895896592\n",
            " Iteration 30000; Avg_train_loss: 1.4412724337275704; Avg_test_loss: 1.5434701048724118\n",
            " Iteration 31000; Avg_train_loss: 1.41835543231509; Avg_test_loss: 1.5216819110770932\n",
            " Iteration 32000; Avg_train_loss: 1.3960436647691643; Avg_test_loss: 1.5007880777083284\n",
            " Iteration 33000; Avg_train_loss: 1.3740083618862415; Avg_test_loss: 1.4812453213429666\n",
            " Iteration 34000; Avg_train_loss: 1.3544332648663533; Avg_test_loss: 1.4639243361415621\n",
            " Iteration 35000; Avg_train_loss: 1.335281662577988; Avg_test_loss: 1.4469117503044029\n",
            " Iteration 36000; Avg_train_loss: 1.3160101286531682; Avg_test_loss: 1.4305024251648077\n",
            " Iteration 37000; Avg_train_loss: 1.297942784734789; Avg_test_loss: 1.4145005315946992\n",
            " Iteration 38000; Avg_train_loss: 1.2815049123839073; Avg_test_loss: 1.399007924841464\n",
            " Iteration 39000; Avg_train_loss: 1.2644743467300719; Avg_test_loss: 1.3850891253721604\n",
            " Iteration 40000; Avg_train_loss: 1.2481003570487794; Avg_test_loss: 1.3707313432177064\n",
            " Iteration 41000; Avg_train_loss: 1.2331245891311906; Avg_test_loss: 1.357727816361997\n",
            " Iteration 42000; Avg_train_loss: 1.2186395006753037; Avg_test_loss: 1.3449751614328482\n",
            " Iteration 43000; Avg_train_loss: 1.2050102055083702; Avg_test_loss: 1.3322485954553671\n",
            " Iteration 44000; Avg_train_loss: 1.191771427519874; Avg_test_loss: 1.3216569294129885\n",
            " Iteration 45000; Avg_train_loss: 1.178751451772791; Avg_test_loss: 1.3097430429055552\n",
            " Iteration 46000; Avg_train_loss: 1.1667617603254612; Avg_test_loss: 1.298282863541614\n",
            " Iteration 47000; Avg_train_loss: 1.1550578361570312; Avg_test_loss: 1.289125721818448\n",
            " Iteration 48000; Avg_train_loss: 1.1439693079778026; Avg_test_loss: 1.2794566200067883\n",
            " Iteration 49000; Avg_train_loss: 1.133232359900821; Avg_test_loss: 1.2702374238697454\n",
            " Iteration 50000; Avg_train_loss: 1.1222667357798337; Avg_test_loss: 1.260480098438098\n",
            " Iteration 51000; Avg_train_loss: 1.1127141214058263; Avg_test_loss: 1.2521356147613492\n",
            " Iteration 52000; Avg_train_loss: 1.1034713885421465; Avg_test_loss: 1.2429749312112088\n",
            " Iteration 53000; Avg_train_loss: 1.0944618245918303; Avg_test_loss: 1.2353241550682705\n",
            " Iteration 54000; Avg_train_loss: 1.0857004423258152; Avg_test_loss: 1.2274773963219274\n",
            " Iteration 55000; Avg_train_loss: 1.076877570104175; Avg_test_loss: 1.2202700476018506\n",
            " Iteration 56000; Avg_train_loss: 1.0691307266254848; Avg_test_loss: 1.2140075435005147\n",
            " Iteration 57000; Avg_train_loss: 1.0614351331876093; Avg_test_loss: 1.2064580246703758\n",
            " Iteration 58000; Avg_train_loss: 1.0542130229253952; Avg_test_loss: 1.1988473226431393\n",
            " Iteration 59000; Avg_train_loss: 1.04699123203579; Avg_test_loss: 1.19209752201481\n",
            " Iteration 60000; Avg_train_loss: 1.0398865549515959; Avg_test_loss: 1.1856134353424417\n",
            " Iteration 61000; Avg_train_loss: 1.032860727159649; Avg_test_loss: 1.1797609580972577\n",
            " Iteration 62000; Avg_train_loss: 1.0261531779489625; Avg_test_loss: 1.1737271456309808\n",
            " Iteration 63000; Avg_train_loss: 1.0193485901304906; Avg_test_loss: 1.1677193820274585\n",
            " Iteration 64000; Avg_train_loss: 1.0126230286226123; Avg_test_loss: 1.1614811937957388\n",
            " Iteration 65000; Avg_train_loss: 1.0065549839985077; Avg_test_loss: 1.1560556496125571\n",
            " Iteration 66000; Avg_train_loss: 1.0002767651754023; Avg_test_loss: 1.1502311617417176\n",
            " Iteration 67000; Avg_train_loss: 0.9943566385474262; Avg_test_loss: 1.1445762813551141\n",
            " Iteration 68000; Avg_train_loss: 0.9891299765561483; Avg_test_loss: 1.1396630755108186\n",
            " Iteration 69000; Avg_train_loss: 0.9833514206010784; Avg_test_loss: 1.1351555178292512\n",
            " Iteration 70000; Avg_train_loss: 0.9780885527629586; Avg_test_loss: 1.130086840209084\n",
            " Iteration 71000; Avg_train_loss: 0.9727959345490723; Avg_test_loss: 1.1252193749961803\n",
            " Iteration 72000; Avg_train_loss: 0.9679677827163842; Avg_test_loss: 1.1211344969469794\n",
            " Iteration 73000; Avg_train_loss: 0.9630150624256641; Avg_test_loss: 1.1164564102020802\n",
            " Iteration 74000; Avg_train_loss: 0.9581562151487195; Avg_test_loss: 1.1122369300734554\n",
            " Iteration 75000; Avg_train_loss: 0.9536242733049419; Avg_test_loss: 1.1078316070225407\n",
            " Iteration 76000; Avg_train_loss: 0.9486620439068949; Avg_test_loss: 1.1044749295804315\n",
            " Iteration 77000; Avg_train_loss: 0.9445602982721748; Avg_test_loss: 1.1010696473391512\n",
            " Iteration 78000; Avg_train_loss: 0.9403310102858486; Avg_test_loss: 1.0971788871585446\n",
            " Iteration 79000; Avg_train_loss: 0.935620444046547; Avg_test_loss: 1.0934548127309058\n",
            " Iteration 80000; Avg_train_loss: 0.9316468043973358; Avg_test_loss: 1.0892048935072922\n",
            " Iteration 81000; Avg_train_loss: 0.9275973948344708; Avg_test_loss: 1.085459049837907\n",
            " Iteration 82000; Avg_train_loss: 0.9233546134639145; Avg_test_loss: 1.0824159170759273\n",
            " Iteration 83000; Avg_train_loss: 0.9192766047186237; Avg_test_loss: 1.0789145524207888\n",
            " Iteration 84000; Avg_train_loss: 0.9157152307008879; Avg_test_loss: 1.0758286345760204\n",
            " Iteration 85000; Avg_train_loss: 0.9118121501361827; Avg_test_loss: 1.0723830132081527\n",
            " Iteration 86000; Avg_train_loss: 0.9081718349622268; Avg_test_loss: 1.0693302634707982\n",
            " Iteration 87000; Avg_train_loss: 0.904553212796059; Avg_test_loss: 1.0662415032566601\n",
            " Iteration 88000; Avg_train_loss: 0.900708990549673; Avg_test_loss: 1.0624182776844684\n",
            " Iteration 89000; Avg_train_loss: 0.8974638911481884; Avg_test_loss: 1.0587347030483303\n",
            " Iteration 90000; Avg_train_loss: 0.8944580000211909; Avg_test_loss: 1.0557192785427227\n",
            " Iteration 91000; Avg_train_loss: 0.8909362836961469; Avg_test_loss: 1.0533364137363546\n",
            " Iteration 92000; Avg_train_loss: 0.8877393792821974; Avg_test_loss: 1.0509516889624815\n",
            " Iteration 93000; Avg_train_loss: 0.8846039821182995; Avg_test_loss: 1.0484206586392844\n",
            " Iteration 94000; Avg_train_loss: 0.8814033223976296; Avg_test_loss: 1.0455836110732066\n",
            " Iteration 95000; Avg_train_loss: 0.878422008984867; Avg_test_loss: 1.0425185603057778\n",
            " Iteration 96000; Avg_train_loss: 0.8754864683668021; Avg_test_loss: 1.0404716729505517\n",
            " Iteration 97000; Avg_train_loss: 0.8728024171323315; Avg_test_loss: 1.0383570739718422\n",
            " Iteration 98000; Avg_train_loss: 0.8697339448753252; Avg_test_loss: 1.0359499623605688\n",
            " Iteration 99000; Avg_train_loss: 0.8675236929537399; Avg_test_loss: 1.033641243568912\n"
          ],
          "name": "stdout"
        },
        {
          "output_type": "execute_result",
          "data": {
            "text/plain": [
              "SineModel(\n",
              "  (model): Sequential(\n",
              "    (0): Linear(in_features=1, out_features=40, bias=True)\n",
              "    (1): ReLU6()\n",
              "    (2): Linear(in_features=40, out_features=40, bias=True)\n",
              "    (3): ReLU6()\n",
              "    (4): Linear(in_features=40, out_features=1, bias=True)\n",
              "  )\n",
              ")"
            ]
          },
          "metadata": {
            "tags": []
          },
          "execution_count": 9
        }
      ]
    },
    {
      "cell_type": "code",
      "metadata": {
        "colab": {
          "base_uri": "https://localhost:8080/",
          "height": 279
        },
        "id": "oG512AG9z__I",
        "outputId": "2d3724bf-5828-47c7-a5cf-673e9064662a"
      },
      "source": [
        "wave = SinWave()\r\n",
        "x, y = wave.test_values()\r\n",
        "item= sorted(zip(x, y), key=lambda x: x[0], reverse=False)\r\n",
        "x_test = []\r\n",
        "y_test = []\r\n",
        "\r\n",
        "for i in item:\r\n",
        "    x_test.append(i[0])\r\n",
        "    y_test.append(i[1])\r\n",
        "\r\n",
        "plot_graph(x_test, y_test, label = 'ground truth')\r\n",
        "\r\n",
        "for n_inner_ in np.arange(4):\r\n",
        "    new_model = train_inner(model, wave, k_steps=n_inner_, lr=0.01)\r\n",
        "    x = torch.tensor(x_test, dtype= torch.float32, device=device).unsqueeze(-1)\r\n",
        "    y_pred = new_model(x).detach().numpy()\r\n",
        "    plot_graph(x_test, y_pred, label = f'{n_inner_} gradient steps')\r\n",
        "\r\n",
        "plt.legend()   \r\n",
        "plt.show()"
      ],
      "execution_count": null,
      "outputs": [
        {
          "output_type": "display_data",
          "data": {
            "image/png": "[encoded data removed]",
            "text/plain": [
              "<Figure size 432x288 with 1 Axes>"
            ]
          },
          "metadata": {
            "tags": [],
            "needs_background": "light"
          }
        }
      ]
    }
  ]
}